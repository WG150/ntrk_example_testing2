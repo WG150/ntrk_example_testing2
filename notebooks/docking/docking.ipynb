{
 "cells": [
  {
   "cell_type": "markdown",
   "metadata": {},
   "source": [
    "# Docking into NTRKs\n",
    "\n",
    "This notebook docks the inhibitors larotrectinib, selitrectinib and repotrectinib into NTRK1-3."
   ]
  },
  {
   "cell_type": "markdown",
   "metadata": {},
   "source": [
    "## 1. Selecting structures for docking\n",
    "\n",
    "NTRK structures for docking were chosen based on searching the [KLIFS database](https://klifs.vu-compmedchem.nl/) for NTRK entries in complex with ligands similar to the substructure `C1CC(c2ccccc2)N(C1)c1ccn2c(ccn2)n1`, which is the core structure of larotrectinib and is very similar in case of selitrectinib and repotrectinib. This procedure resulted in the identification of NTRK1 structure [4YNE](https://www.rcsb.org/structure/4YNE), which was resolved with a DFG in/$\\alpha$C helix out conformation according to the KLIFS conformation enumeration.\n",
    "\n",
    "Assuming that larotrectinib, selitrectinib and repotrectinib would prefer binding to the same conformation in case of NTRK2 and NTRK3, the KLIFS database was searched for structures matching the DFG in/$\\alpha$C helix out conformation. Additionally, co-crystalized ligands were checked for their similarity towards the larotrectinib core structure. This procedure resulted in the selection of [4AT3](https://www.rcsb.org/structure/4AT3) for NTRK2. However, NTRK3 structures with a DFG in/$\\alpha$C helix out conformation were not yet released in the PDB. Hence, we used the NTRK3 structure with the most similar co-crystalized ligand compared to the larotrectinib core structure, i.e., [6KZD](https://www.rcsb.org/structure/6KZD) with a DFG out/$\\alpha$C helix out conformation.\n",
    "\n",
    "Relevant data about preferred chain and alternate locations for PDB entries 4YNE, 4AT3 and 6KZD were retrieved from KLIFS and stored in `data/complexes.csv`."
   ]
  },
  {
   "cell_type": "markdown",
   "metadata": {},
   "source": [
    "## 2. Read data"
   ]
  },
  {
   "cell_type": "code",
   "execution_count": 1,
   "metadata": {},
   "outputs": [],
   "source": [
    "# imports\n",
    "from dockin.oe_docking import get_structure_from_pdb, select_chain, select_altloc, \\\n",
    "    select_ligand, prepare_complex, create_hybrid_receptor, create_hint_receptor, \\\n",
    "    hybrid_docking, chemgauss_docking\n",
    "from openeye import oechem\n",
    "import pandas as pd\n",
    "from rdkit import Chem"
   ]
  },
  {
   "cell_type": "code",
   "execution_count": 2,
   "metadata": {},
   "outputs": [
    {
     "data": {
      "text/html": [
       "<div>\n",
       "<style scoped>\n",
       "    .dataframe tbody tr th:only-of-type {\n",
       "        vertical-align: middle;\n",
       "    }\n",
       "\n",
       "    .dataframe tbody tr th {\n",
       "        vertical-align: top;\n",
       "    }\n",
       "\n",
       "    .dataframe thead th {\n",
       "        text-align: right;\n",
       "    }\n",
       "</style>\n",
       "<table border=\"1\" class=\"dataframe\">\n",
       "  <thead>\n",
       "    <tr style=\"text-align: right;\">\n",
       "      <th></th>\n",
       "      <th>compound</th>\n",
       "      <th>smiles</th>\n",
       "      <th>NTRK1 WT</th>\n",
       "      <th>NTRK1 G595R</th>\n",
       "      <th>NTRK1 G667C</th>\n",
       "      <th>NTRK2 WT</th>\n",
       "      <th>NTRK2 G639R</th>\n",
       "      <th>NTRK3 WT</th>\n",
       "      <th>NTRK3 G623R</th>\n",
       "      <th>NTRK3 G696A</th>\n",
       "      <th>DOI</th>\n",
       "    </tr>\n",
       "  </thead>\n",
       "  <tbody>\n",
       "    <tr>\n",
       "      <th>0</th>\n",
       "      <td>larotrectinib</td>\n",
       "      <td>O=C(Nc1cnn2ccc(N3CCC[C@@H]3c3cc(F)ccc3F)nc12)N...</td>\n",
       "      <td>0.900</td>\n",
       "      <td>69.00</td>\n",
       "      <td>45.5</td>\n",
       "      <td>NaN</td>\n",
       "      <td>NaN</td>\n",
       "      <td>2.800</td>\n",
       "      <td>48.00</td>\n",
       "      <td>4.5</td>\n",
       "      <td>10.1158/2159-8290.CD-17-0507</td>\n",
       "    </tr>\n",
       "    <tr>\n",
       "      <th>1</th>\n",
       "      <td>selitrectinib</td>\n",
       "      <td>C[C@@H]1CCc2ncc(F)cc2[C@H]2CCCN2c2ccn3ncc(c3n2...</td>\n",
       "      <td>0.600</td>\n",
       "      <td>2.00</td>\n",
       "      <td>9.8</td>\n",
       "      <td>NaN</td>\n",
       "      <td>NaN</td>\n",
       "      <td>2.500</td>\n",
       "      <td>2.30</td>\n",
       "      <td>2.5</td>\n",
       "      <td>10.1158/2159-8290.CD-17-0507</td>\n",
       "    </tr>\n",
       "    <tr>\n",
       "      <th>2</th>\n",
       "      <td>repotrectinib</td>\n",
       "      <td>C[C@H]1CNC(=O)c2cnn3ccc(nc23)N[C@H](C)c2cc(F)c...</td>\n",
       "      <td>0.533</td>\n",
       "      <td>2.67</td>\n",
       "      <td>NaN</td>\n",
       "      <td>0.297</td>\n",
       "      <td>2.66</td>\n",
       "      <td>0.211</td>\n",
       "      <td>4.46</td>\n",
       "      <td>NaN</td>\n",
       "      <td>10.1158/2159-8290.CD-18-0484</td>\n",
       "    </tr>\n",
       "  </tbody>\n",
       "</table>\n",
       "</div>"
      ],
      "text/plain": [
       "        compound                                             smiles  NTRK1 WT  \\\n",
       "0  larotrectinib  O=C(Nc1cnn2ccc(N3CCC[C@@H]3c3cc(F)ccc3F)nc12)N...     0.900   \n",
       "1  selitrectinib  C[C@@H]1CCc2ncc(F)cc2[C@H]2CCCN2c2ccn3ncc(c3n2...     0.600   \n",
       "2  repotrectinib  C[C@H]1CNC(=O)c2cnn3ccc(nc23)N[C@H](C)c2cc(F)c...     0.533   \n",
       "\n",
       "   NTRK1 G595R  NTRK1 G667C  NTRK2 WT  NTRK2 G639R  NTRK3 WT  NTRK3 G623R  \\\n",
       "0        69.00         45.5       NaN          NaN     2.800        48.00   \n",
       "1         2.00          9.8       NaN          NaN     2.500         2.30   \n",
       "2         2.67          NaN     0.297         2.66     0.211         4.46   \n",
       "\n",
       "   NTRK3 G696A                           DOI  \n",
       "0          4.5  10.1158/2159-8290.CD-17-0507  \n",
       "1          2.5  10.1158/2159-8290.CD-17-0507  \n",
       "2          NaN  10.1158/2159-8290.CD-18-0484  "
      ]
     },
     "execution_count": 2,
     "metadata": {},
     "output_type": "execute_result"
    }
   ],
   "source": [
    "# read activity data\n",
    "activities = pd.read_csv('../../data/activities.csv')\n",
    "activities"
   ]
  },
  {
   "cell_type": "code",
   "execution_count": 3,
   "metadata": {},
   "outputs": [],
   "source": [
    "# convert SMILES to sdf and keep name of molecules\n",
    "mols = []\n",
    "with open('../../data/activities.csv', 'r') as rf:\n",
    "    for line in rf.readlines()[1:]:\n",
    "        line = line.split(',')\n",
    "        name, smiles = line[0], line[1]\n",
    "        mol = Chem.MolFromSmiles(smiles)\n",
    "        mol.SetProp('_Name', str(name))\n",
    "        mol = Chem.AddHs(mol)\n",
    "        mols.append(mol)\n",
    "wf = Chem.SDWriter('data/ligands.sdf')\n",
    "for mol in mols:\n",
    "    wf.write(mol)"
   ]
  },
  {
   "cell_type": "code",
   "execution_count": 4,
   "metadata": {},
   "outputs": [],
   "source": [
    "# read molecules as openeye mols\n",
    "mols = []\n",
    "ifs = oechem.oemolistream()\n",
    "if ifs.open('data/ligands.sdf'):\n",
    "    for mol in ifs.GetOEGraphMols():\n",
    "        mols.append(oechem.OEGraphMol(mol))\n",
    "else:\n",
    "    oechem.OEThrow.Fatal(f'Unable to open {file_name}')"
   ]
  },
  {
   "cell_type": "code",
   "execution_count": 5,
   "metadata": {},
   "outputs": [
    {
     "data": {
      "text/html": [
       "<div>\n",
       "<style scoped>\n",
       "    .dataframe tbody tr th:only-of-type {\n",
       "        vertical-align: middle;\n",
       "    }\n",
       "\n",
       "    .dataframe tbody tr th {\n",
       "        vertical-align: top;\n",
       "    }\n",
       "\n",
       "    .dataframe thead th {\n",
       "        text-align: right;\n",
       "    }\n",
       "</style>\n",
       "<table border=\"1\" class=\"dataframe\">\n",
       "  <thead>\n",
       "    <tr style=\"text-align: right;\">\n",
       "      <th></th>\n",
       "      <th>structure</th>\n",
       "      <th>pdb</th>\n",
       "      <th>ligand</th>\n",
       "      <th>chain</th>\n",
       "      <th>alt</th>\n",
       "    </tr>\n",
       "  </thead>\n",
       "  <tbody>\n",
       "    <tr>\n",
       "      <th>0</th>\n",
       "      <td>NTRK1</td>\n",
       "      <td>4YNE</td>\n",
       "      <td>4EK</td>\n",
       "      <td>A</td>\n",
       "      <td>A</td>\n",
       "    </tr>\n",
       "    <tr>\n",
       "      <th>1</th>\n",
       "      <td>NTRK2</td>\n",
       "      <td>4AT3</td>\n",
       "      <td>LTI</td>\n",
       "      <td>A</td>\n",
       "      <td>NaN</td>\n",
       "    </tr>\n",
       "    <tr>\n",
       "      <th>2</th>\n",
       "      <td>NTRK3</td>\n",
       "      <td>6KZD</td>\n",
       "      <td>DZ6</td>\n",
       "      <td>A</td>\n",
       "      <td>NaN</td>\n",
       "    </tr>\n",
       "  </tbody>\n",
       "</table>\n",
       "</div>"
      ],
      "text/plain": [
       "  structure   pdb ligand chain  alt\n",
       "0     NTRK1  4YNE    4EK     A    A\n",
       "1     NTRK2  4AT3    LTI     A  NaN\n",
       "2     NTRK3  6KZD    DZ6     A  NaN"
      ]
     },
     "execution_count": 5,
     "metadata": {},
     "output_type": "execute_result"
    }
   ],
   "source": [
    "# read structural data\n",
    "structure_entries = pd.read_csv('data/complexes.csv')\n",
    "structure_entries"
   ]
  },
  {
   "cell_type": "markdown",
   "metadata": {},
   "source": [
    "## 3. Docking"
   ]
  },
  {
   "cell_type": "code",
   "execution_count": 6,
   "metadata": {},
   "outputs": [
    {
     "name": "stdout",
     "output_type": "stream",
     "text": [
      "Re-optimizing hydrogen positions...\n",
      "Identifying design units...\n",
      "Re-optimizing hydrogen positions...\n",
      "Identifying design units...\n",
      "Re-optimizing hydrogen positions...\n",
      "Identifying design units...\n"
     ]
    }
   ],
   "source": [
    "# hybrid docking\n",
    "for index, entry in structure_entries.iterrows():\n",
    "    structure = get_structure_from_pdb(entry['pdb'])\n",
    "    structure = select_chain(structure, entry['chain'])\n",
    "    if not pd.isna(entry['alt']):\n",
    "        structure = select_altloc(structure, entry['alt'])\n",
    "    structure = select_ligand(structure, entry['ligand'])\n",
    "    protein, ligand = prepare_complex(structure, protein_save_path=f'data/{entry[\"pdb\"]}_protein.pdb')\n",
    "    hybrid_receptor = create_hybrid_receptor(protein, ligand)\n",
    "    docking_poses = hybrid_docking(hybrid_receptor, mols, \n",
    "                                   docking_poses_save_path=f'data/{entry[\"pdb\"]}_hybrid_docking.sdf')"
   ]
  },
  {
   "cell_type": "markdown",
   "metadata": {},
   "source": [
    "The docking results were good for NTRK1 and NTRK2 compared to binding modes in Figure 1 from [Drilon et al. 2017](https://www.doi.org/10.1158/2159-8290.CD-17-0507). Docking into NTRK3 in the wrong conformation gave worse results. Hence, another approach was performed using the coordinates of the nitrogen atom named `NAN` of the co-crystalized ligand in [6KZD](https://www.rcsb.org/structure/6KZD) as hint coordinates for chemgauss docking."
   ]
  },
  {
   "cell_type": "code",
   "execution_count": 7,
   "metadata": {},
   "outputs": [
    {
     "data": {
      "text/plain": [
       "structure    NTRK3\n",
       "pdb           6KZD\n",
       "ligand         DZ6\n",
       "chain            A\n",
       "alt            NaN\n",
       "Name: 2, dtype: object"
      ]
     },
     "execution_count": 7,
     "metadata": {},
     "output_type": "execute_result"
    }
   ],
   "source": [
    "# select structure\n",
    "ntrk3 = structure_entries.iloc[2]\n",
    "ntrk3"
   ]
  },
  {
   "cell_type": "code",
   "execution_count": 8,
   "metadata": {},
   "outputs": [
    {
     "name": "stdout",
     "output_type": "stream",
     "text": [
      "Re-optimizing hydrogen positions...\n",
      "Identifying design units...\n"
     ]
    }
   ],
   "source": [
    "# perform chemgauss docking with hint coordinate\n",
    "structure = get_structure_from_pdb(ntrk3['pdb'])\n",
    "structure = select_chain(structure, ntrk3['chain'])\n",
    "structure = select_ligand(structure, ntrk3['ligand'])\n",
    "protein, ligand = prepare_complex(structure)\n",
    "hintx, hinty, hintz = -4.232, -18.096, 11.762 # coordinates of atom named NAN from ligand DZ6 in 6KZD\n",
    "hint_receptor = create_hint_receptor(protein, hintx, hinty, hintz)\n",
    "docking_poses = chemgauss_docking(hint_receptor, mols, \n",
    "                                  docking_poses_save_path=f'data/{ntrk3[\"pdb\"]}_chemgauss_docking.sdf')"
   ]
  },
  {
   "cell_type": "markdown",
   "metadata": {},
   "source": [
    "However, also these docking results were not very promissing, which underlines the importance of docking into the correct conformation."
   ]
  },
  {
   "cell_type": "markdown",
   "metadata": {},
   "source": [
    "Importantly, OESpruce was not able to model all missing residues. Also, relatively short chain breaks were sometimes not modeled, which might affect the behavior of the systems in MD simulations."
   ]
  },
  {
   "cell_type": "markdown",
   "metadata": {},
   "source": [
    "## 4. Generated data\n",
    "\n",
    "- prepared proteins\n",
    "  - `data/4YNE_protein.pdb`\n",
    "  - `data/4AT3_protein.pdb`\n",
    "  - `data/6KZD_protein.pdb`\n",
    "- docking poses\n",
    "  - `data/4YNE_hybrid_docking.sdf`\n",
    "  - `data/4AT3_hybrid_docking.sdf`\n",
    "  - `data/6KZD_hybrid_docking.sdf`\n",
    "  - `data/6KZD_chemgauss_docking.sdf`"
   ]
  }
 ],
 "metadata": {
  "kernelspec": {
   "display_name": "Python 3",
   "language": "python",
   "name": "python3"
  },
  "language_info": {
   "codemirror_mode": {
    "name": "ipython",
    "version": 3
   },
   "file_extension": ".py",
   "mimetype": "text/x-python",
   "name": "python",
   "nbconvert_exporter": "python",
   "pygments_lexer": "ipython3",
   "version": "3.6.10"
  }
 },
 "nbformat": 4,
 "nbformat_minor": 4
}
