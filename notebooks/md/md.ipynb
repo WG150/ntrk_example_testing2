{
 "cells": [
  {
   "cell_type": "markdown",
   "metadata": {},
   "source": [
    "# MD Simulations of NTRKs"
   ]
  },
  {
   "cell_type": "markdown",
   "metadata": {},
   "source": [
    "This notebook analyses results from MD simulations of inhibitors larotrectinib, selitrectinib and repotrectinib docked into NTRK1-3."
   ]
  },
  {
   "cell_type": "markdown",
   "metadata": {},
   "source": [
    "## 1. System preparation"
   ]
  },
  {
   "cell_type": "markdown",
   "metadata": {},
   "source": [
    "## 1.1 Docked structures"
   ]
  },
  {
   "cell_type": "markdown",
   "metadata": {},
   "source": [
    "#### Data can be found in `../docking/docking.ipynb`\n",
    "\n",
    "PDB structures `4YNE`, `4AT3`, and `6KZD` were used as structures for NTRK1, NTRK2, and NTRK3 respectively. \n",
    "\n",
    "A short summary of how structures were produced is shown below (check `../docking/docking.ipynb` for a full description):\n",
    "\n",
    "* NTRK structures for docking were chosen based on searching the KLIFS database for NTRK entries in complex with ligands similar to the core structure of larotrectinib.\n",
    "* Both `4YNE` and `4AT3` are in the DFG in/$\\alpha$C helix out conformation, whilst `6KZD` is in the DFG out/$\\alpha$C helix out conformation.\n",
    "* OESpruce was not able to model all missing residues.\n",
    "* Docking results were good for NTRK1 and NTRK2 compared to binding modes in Figure 1 from [Drilon et al. 2017](https://cancerdiscovery.aacrjournals.org/content/7/9/963).\n",
    "* Docking into NTRK3 in the wrong conformation gave worse results. Another approach was performed using the coordinates of the nitrogen atom named NAN of the co-crystalized ligand in `6KZD` as hint coordinates for chemgauss docking. "
   ]
  },
  {
   "cell_type": "markdown",
   "metadata": {},
   "source": [
    "## 1.2 Adding missing residues"
   ]
  },
  {
   "cell_type": "markdown",
   "metadata": {},
   "source": [
    "#### Data can be found in: `./data/add_missing_loops/`\n",
    "\n",
    "All models created via docking contained missing loop residues that were not modelled by OESpruce.\n",
    "\n",
    "* `4YNE` contained 4 missing loops (between 2-5 residues missing in each loop).\n",
    "* `4AT3` contained 4 missing loops (between 2-4 residues missing in each loop).\n",
    "* `6KZD` contained 2 missing loops (between 12-16 residues missing in each loop).\n",
    "\n",
    "[MODELLER](https://salilab.org/modeller/) was used to add in the short loops in both `4YNE` and `4AT3`. Since `6KZD` contained two large loops (12 and 16 residues respoectively) loops were not modelled in.\n",
    "\n",
    "Alignment files were manually created using the full protein sequence and PDB file sequence (extracted via [PyMol](https://pymol.org/2/)). Any artifacts (e.g. the expression tag `GSGIR` in `4YNE`) were from the structural sequence before creating models.\n",
    "\n",
    "A total of 200 models were created and scored using [Discret Optimised Protein Energy](https://www.ncbi.nlm.nih.gov/pmc/articles/PMC2242414/) (DOPE). The best scoring DOPE models (most negative value) for each strcuture were:\n",
    "\n",
    "* `4YNE`: 4YNE_fill.BL01040001.pdb (DOPE score -4225.328)\n",
    "* `4AT3`: 4AT3_fill.BL00850001.pdb (DOPE score -3242.686)\n",
    "* `6KZD`: N/A"
   ]
  },
  {
   "cell_type": "markdown",
   "metadata": {},
   "source": [
    "## 1.3 Equilibration"
   ]
  },
  {
   "cell_type": "markdown",
   "metadata": {},
   "source": [
    "#### Data can be found in: `./data/md_equil/`\n",
    "\n",
    "All models were capped with ACE and NME residues at their N and C termini. `TER` cards were added at the end of each chain and the final model saved as: `<pdb_code>_prepped.pdb` (e.g. `./data/md_equil/4YNE/4YNE_prepped.pdb`).\n",
    "\n",
    "The equilibration protocol for each system can be found in `./data/md_equil/<pdb_code>/md_equil.py`. A general overview is given below:\n",
    "\n",
    "* Each protein:ligand system was prepared using the `amberff14sb`:`openff-1.1.0` forcefields and energy minimised.\n",
    "* Temperature = 300 K, Pressure = 1 bar, Ionic strength = 150 mM NaCl. \n",
    "* Each system was equilibrated in the NPT ensemble for 5 ns.\n",
    "* The final equilibrated structure was written out to a PDB file named `equilibrated_state_5ns.pdb` (e.g. `./data/md_equil/output/larotrectinib/equilibrated_state_5ns.pdb`) for visual inspection.\n",
    "\n"
   ]
  },
  {
   "cell_type": "markdown",
   "metadata": {},
   "source": [
    "## 2. Production runs"
   ]
  },
  {
   "cell_type": "code",
   "execution_count": 262,
   "metadata": {},
   "outputs": [],
   "source": [
    "import MDAnalysis as mda\n",
    "import MDAnalysis.analysis.rms\n",
    "import MDAnalysis.transformations as trans\n",
    "import matplotlib.pyplot as plt\n",
    "import nglview as nv\n",
    "import numpy as np"
   ]
  },
  {
   "cell_type": "markdown",
   "metadata": {},
   "source": [
    "## 2.1 4YNE"
   ]
  },
  {
   "cell_type": "markdown",
   "metadata": {},
   "source": [
    "### 2.1.1 4NYE:Larotrectinib"
   ]
  },
  {
   "cell_type": "code",
   "execution_count": 263,
   "metadata": {},
   "outputs": [],
   "source": [
    "# Note: if the trajectory is not available only load the .pdb files\n",
    "# trajectories have not been uploaded to the repo due to their size\n",
    "ntrk1_systems = {'larotrectinib': mda.Universe(\n",
    "    \"./data/md_equil/4YNE/output/larotrectinib/equilibrated_state_5ns.pdb\",\n",
    "    \"./data/md_production_run/4YNE/output/larotrectinib/pr_output_traj.xtc\"),\n",
    "                'selitrectinib': mda.Universe(\n",
    "    \"./data/md_equil/4YNE/output/selitrectinib/equilibrated_state_5ns.pdb\",\n",
    "    \"./data/md_production_run/4YNE/output/selitrectinib/pr_output_traj.xtc\"),\n",
    "                'repotrectinib': mda.Universe(\n",
    "    \"./data/md_equil/4YNE/output/repotrectinib/equilibrated_state_5ns.pdb\",\n",
    "    \"./data/md_production_run/4YNE/output/repotrectinib/pr_output_traj.xtc\")}\n",
    "\n",
    "# Centre the protein in the box using MDAnalysis\n",
    "for syst in ntrk1_systems:\n",
    "    u = ntrk1_systems[syst]\n",
    "    reference = u.copy().select_atoms('protein or resname ACE NME')\n",
    "\n",
    "    protein = u.select_atoms('protein or resname ACE NME')\n",
    "    not_protein = u.select_atoms('not protein')\n",
    "\n",
    "    transforms = [trans.center_in_box(protein, wrap=False, center=\"geometry\"),\n",
    "                  trans.wrap(not_protein),\n",
    "                  trans.fit_rot_trans(protein, reference)\n",
    "                 ]\n",
    "\n",
    "    ntrk1_systems[syst].trajectory.add_transformations(*transforms)"
   ]
  },
  {
   "cell_type": "code",
   "execution_count": 264,
   "metadata": {},
   "outputs": [
    {
     "data": {
      "application/vnd.jupyter.widget-view+json": {
       "model_id": "091e912a378a4b7d8dc30840463b1676",
       "version_major": 2,
       "version_minor": 0
      },
      "text/plain": [
       "NGLWidget(max_frame=1642)"
      ]
     },
     "metadata": {},
     "output_type": "display_data"
    }
   ],
   "source": [
    "view = nv.show_mdanalysis(ntrk1_systems['larotrectinib'])\n",
    "view.center()\n",
    "# View with nglview\n",
    "view"
   ]
  },
  {
   "cell_type": "code",
   "execution_count": 265,
   "metadata": {},
   "outputs": [
    {
     "data": {
      "application/vnd.jupyter.widget-view+json": {
       "model_id": "6a547c34d01244cf953ee2a6617139d2",
       "version_major": 2,
       "version_minor": 0
      },
      "text/plain": [
       "NGLWidget(max_frame=1752)"
      ]
     },
     "metadata": {},
     "output_type": "display_data"
    }
   ],
   "source": [
    "view = nv.show_mdanalysis(ntrk1_systems['selitrectinib'])\n",
    "view.center()\n",
    "# View with nglview\n",
    "view"
   ]
  },
  {
   "cell_type": "code",
   "execution_count": 266,
   "metadata": {},
   "outputs": [
    {
     "data": {
      "application/vnd.jupyter.widget-view+json": {
       "model_id": "d0862e1b4fb0469a86af7636f5c8b3d5",
       "version_major": 2,
       "version_minor": 0
      },
      "text/plain": [
       "NGLWidget(max_frame=1711)"
      ]
     },
     "metadata": {},
     "output_type": "display_data"
    }
   ],
   "source": [
    "view = nv.show_mdanalysis(ntrk1_systems['repotrectinib'])\n",
    "view.center()\n",
    "# View with nglview\n",
    "view"
   ]
  },
  {
   "cell_type": "code",
   "execution_count": null,
   "metadata": {},
   "outputs": [
    {
     "name": "stdout",
     "output_type": "stream",
     "text": [
      "Calculating RMSD for 4YNE:larotrectinib\n",
      "Calculating RMSD for 4YNE:selitrectinib\n",
      "Calculating RMSD for 4YNE:repotrectinib\n"
     ]
    }
   ],
   "source": [
    "rmsd_store = []\n",
    "\n",
    "for syst in ntrk1_systems:\n",
    "    print(\"Calculating RMSD for 4YNE:\" + syst)\n",
    "    \n",
    "    # Load system and reset trajectory to the first frame\n",
    "    u = ntrk1_systems[syst]\n",
    "    u.trajectory[0]\n",
    "    ref = u\n",
    "\n",
    "    R = MDAnalysis.analysis.rms.RMSD(u, ref,\n",
    "               select=\"backbone\",             # superimpose on whole backbone of the whole protein\n",
    "               groupselections=[\"backbone\"])   # whole protein\n",
    "    \n",
    "    #\"backbone and resid 554-566\" # C-Helix\n",
    "    #\"backbone and resid 668-670\" # DFG motif                       \n",
    "    #\"backbone and resid 517-522\" # Glycine loop\n",
    "    #\"backbone and resid 544-560\" # Conserved lysine, glutamate\n",
    "    #\"backbone and resid 648-650\" # HRD motif \n",
    "    #\"backbone and resid 668-694\" # Activation loop\n",
    "\n",
    "    R.run()\n",
    "    rmsd_store.append(R)\n",
    "\n",
    "# Plot the RMSDs\n",
    "fig = plt.figure(figsize=(6,6))\n",
    "ax = fig.add_subplot(111)\n",
    "cb_colour_cycle = ['#377eb8', '#ff7f00', '#4daf4a',\n",
    "                  '#f781bf', '#a65628', '#984ea3',\n",
    "                  '#999999', '#e41a1c', '#dede00']\n",
    "\n",
    "for i, syst in enumerate(ntrk1_systems):\n",
    "\n",
    "    rmsd = rmsd_store[i].rmsd.T   # transpose makes it easier for plotting\n",
    "    time = rmsd[1] / 1000\n",
    "    ax.plot(time, rmsd[2], cb_colour_cycle[i], label=\"4YNE:\" + syst, alpha=0.8)\n",
    "    ax.legend(loc=\"best\")\n",
    "    ax.set_xlabel(\"Time (ns)\")\n",
    "    ax.set_ylabel(r\"RMSD ($\\AA$)\")"
   ]
  },
  {
   "cell_type": "code",
   "execution_count": null,
   "metadata": {},
   "outputs": [],
   "source": [
    "# Calculate the distance changes between the original docked ligand's centre of geometry \n",
    "# and the centre of geometry at each frame\n",
    "\n",
    "inhib_resnames = ['resname lar', 'resname sel', 'resname rep']\n",
    "inhib_store = {'larotrectinib': {'time' : [], 'cog': []},\n",
    "                    'selitrectinib': {'time' : [], 'cog': []},\n",
    "                    'repotrectinib': {'time' : [], 'cog': []}}\n",
    "\n",
    "for sel, syst in zip(inhib_resnames, ntrk1_systems):\n",
    "\n",
    "    u = ntrk1_systems[syst]\n",
    "    u.trajectory[0]\n",
    "    \n",
    "    inhib_sel = u.select_atoms(sel)\n",
    "    ref_cog = inhib_sel.center_of_geometry()\n",
    "    \n",
    "    for ts in u.trajectory:\n",
    "    \n",
    "        inhib_store[syst]['time'].append(ts.time / 1000)\n",
    "\n",
    "        dist = np.linalg.norm(inhib_sel.center_of_geometry() - ref_cog)\n",
    "\n",
    "        inhib_store[syst]['cog'].append(dist)\n",
    "\n",
    "# Plot\n",
    "fig = plt.figure(figsize=(6,6))\n",
    "ax = fig.add_subplot(111)\n",
    "i=0\n",
    "\n",
    "for sel, syst in zip(inhib_resnames, ntrk1_systems):\n",
    "    i+=1\n",
    "\n",
    "    cog = inhib_store[syst]['cog']\n",
    "    time = inhib_store[syst]['time']\n",
    "    ax.plot(time, cog, cb_colour_cycle[i], label=\"4YNE:\" + syst, alpha=0.8)\n",
    "    ax.legend(loc=\"best\")\n",
    "    ax.set_xlabel(\"Time (ns)\")\n",
    "    ax.set_ylabel(r'$\\Delta$ Distance ($\\AA$)')"
   ]
  }
 ],
 "metadata": {
  "kernelspec": {
   "display_name": "Python 3.7.6 64-bit ('ntrk_mutations': conda)",
   "language": "python",
   "name": "python37664bitntrkmutationscondad60f283d63204a69b2c2b344b0a1305e"
  },
  "language_info": {
   "codemirror_mode": {
    "name": "ipython",
    "version": 3
   },
   "file_extension": ".py",
   "mimetype": "text/x-python",
   "name": "python",
   "nbconvert_exporter": "python",
   "pygments_lexer": "ipython3",
   "version": "3.7.6"
  }
 },
 "nbformat": 4,
 "nbformat_minor": 2
}
